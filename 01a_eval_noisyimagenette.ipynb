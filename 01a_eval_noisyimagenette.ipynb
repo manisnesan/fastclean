{
 "cells": [
  {
   "cell_type": "code",
   "execution_count": null,
   "metadata": {},
   "outputs": [],
   "source": [
    "from fastai.vision.all import *\n",
    "from fastcore.test import *"
   ]
  },
  {
   "cell_type": "code",
   "execution_count": null,
   "metadata": {},
   "outputs": [
    {
     "data": {
      "text/plain": [
       "13394"
      ]
     },
     "execution_count": null,
     "metadata": {},
     "output_type": "execute_result"
    }
   ],
   "source": [
    "## Load the data\n",
    "\n",
    "source = untar_data(URLs.IMAGENETTE)\n",
    "df = pd.read_csv(source/'noisy_imagenette.csv');len(df)"
   ]
  },
  {
   "cell_type": "code",
   "execution_count": null,
   "metadata": {},
   "outputs": [
    {
     "data": {
      "text/plain": [
       "(#474) [24,42,57,90,103,115,126,159,163,189...]"
      ]
     },
     "execution_count": null,
     "metadata": {},
     "output_type": "execute_result"
    }
   ],
   "source": [
    "# Number of noisy labels from Noise Percent 5\n",
    "noisy_labels_5 = (df.noisy_labels_0 != df.noisy_labels_5)\n",
    "L(df[noisy_labels_5].index.values, use_list=True)"
   ]
  },
  {
   "cell_type": "code",
   "execution_count": null,
   "metadata": {},
   "outputs": [
    {
     "data": {
      "text/plain": [
       "(#2368) [2,6,20,21,28,32,33,34,39,42...]"
      ]
     },
     "execution_count": null,
     "metadata": {},
     "output_type": "execute_result"
    }
   ],
   "source": [
    "# Number of noisy labels from Noise Percent 25\n",
    "noisy_labels_25 = (df.noisy_labels_0 != df.noisy_labels_25)\n",
    "L(df[noisy_labels_25].index.values, use_list=True)"
   ]
  },
  {
   "cell_type": "code",
   "execution_count": null,
   "metadata": {},
   "outputs": [
    {
     "data": {
      "text/plain": [
       "(#4735) [1,2,3,4,5,7,8,12,13,14...]"
      ]
     },
     "execution_count": null,
     "metadata": {},
     "output_type": "execute_result"
    }
   ],
   "source": [
    "# Number of noisy labels from Noise Percent 50\n",
    "noisy_labels_50 = (df.noisy_labels_0 != df.noisy_labels_50)\n",
    "L(df[noisy_labels_50].index.values, use_list=True)"
   ]
  },
  {
   "cell_type": "code",
   "execution_count": null,
   "metadata": {},
   "outputs": [
    {
     "name": "stdout",
     "output_type": "stream",
     "text": [
      "114\n",
      "2122\n",
      "4092\n"
     ]
    }
   ],
   "source": [
    "# Load all predictions and confidence scores \n",
    "\n",
    "FILES = ['noisy5_train_predictions.csv', 'noisy25_train_predictions.csv', 'noisy50_train_predictions.csv']\n",
    "for f in FILES:\n",
    "    noisy = pd.read_csv(Path('./data/imagenette')/f)\n",
    "    print((noisy.predictions == noisy.noisy_labels_0).sum())"
   ]
  },
  {
   "cell_type": "code",
   "execution_count": null,
   "metadata": {},
   "outputs": [],
   "source": []
  }
 ],
 "metadata": {
  "kernelspec": {
   "display_name": "fsdl",
   "language": "python",
   "name": "fsdl"
  }
 },
 "nbformat": 4,
 "nbformat_minor": 4
}
